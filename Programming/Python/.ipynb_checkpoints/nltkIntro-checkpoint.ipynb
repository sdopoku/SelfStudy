{
 "metadata": {
  "name": ""
 },
 "nbformat": 3,
 "nbformat_minor": 0,
 "worksheets": [
  {
   "cells": [
    {
     "cell_type": "code",
     "collapsed": false,
     "input": [
      "%pylab inline\n",
      "import numpy as np\n",
      "import matplotlib.pyplot as plt\n",
      "import nltk\n",
      "from nltk.book import *"
     ],
     "language": "python",
     "metadata": {},
     "outputs": [
      {
       "output_type": "stream",
       "stream": "stdout",
       "text": [
        "Populating the interactive namespace from numpy and matplotlib\n"
       ]
      },
      {
       "output_type": "stream",
       "stream": "stderr",
       "text": [
        "WARNING: pylab import has clobbered these variables: ['Text']\n",
        "`%pylab --no-import-all` prevents importing * from pylab and numpy\n"
       ]
      }
     ],
     "prompt_number": 5
    },
    {
     "cell_type": "code",
     "collapsed": false,
     "input": [
      "# See position informations for words in the Book of Genesis i.e text3\n",
      "\n",
      "words = ['sea', 'land', 'death', 'life', 'israelites', \\\n",
      "         'light', 'dark']\n",
      "text3.dispersion_plot(words)"
     ],
     "language": "python",
     "metadata": {},
     "outputs": [
      {
       "metadata": {},
       "output_type": "display_data",
       "png": "[encoded data removed]",
       "text": [
        "<matplotlib.figure.Figure at 0x7382650>"
       ]
      }
     ],
     "prompt_number": 8
    },
    {
     "cell_type": "code",
     "collapsed": false,
     "input": [
      "# Calculating lexical richness\n",
      "from __future__ import division # return result in float also \n",
      "                                # and not integer only\n",
      "\n",
      "len(text3)/len(set(text3))\n",
      "\n"
     ],
     "language": "python",
     "metadata": {},
     "outputs": [
      {
       "metadata": {},
       "output_type": "pyout",
       "prompt_number": 21,
       "text": [
        "16.050197203298673"
       ]
      }
     ],
     "prompt_number": 21
    },
    {
     "cell_type": "code",
     "collapsed": false,
     "input": [
      "# Count how often word occurs in a text\n",
      "\n",
      "text3.count('smote')\n",
      "text5.count('lol')/len(text5)"
     ],
     "language": "python",
     "metadata": {},
     "outputs": [
      {
       "metadata": {},
       "output_type": "pyout",
       "prompt_number": 25,
       "text": [
        "0.015640968673628082"
       ]
      }
     ],
     "prompt_number": 25
    },
    {
     "cell_type": "code",
     "collapsed": false,
     "input": [
      "# define functions for lexical diversity and percentage\n",
      "\n",
      "def lexical_diversity(text):\n",
      "    \"\"\"Returns the lexical diversity of a given text.\"\"\"\n",
      "    \n",
      "    return len(text)/ len(set(text))\n",
      "\n",
      "# See lexical diversity of all 9 texts\n",
      "for text in [text1,text2,text3,text4,text5,text6,text7,text8,text9]:\n",
      "    print 'Lexical diversity of %s: %s' %(text, lexical_diversity(text))e  "
     ],
     "language": "python",
     "metadata": {},
     "outputs": [
      {
       "output_type": "stream",
       "stream": "stdout",
       "text": [
        "Lexical diversity of <Text: Moby Dick by Herman Melville 1851>: 13.502044831\n",
        "Lexical diversity of <Text: Sense and Sensibility by Jane Austen 1811>: 20.7194497293"
       ]
      },
      {
       "output_type": "stream",
       "stream": "stdout",
       "text": [
        "\n",
        "Lexical diversity of <Text: The Book of Genesis>: 16.0501972033\n",
        "Lexical diversity of <Text: Inaugural Address Corpus>: 14.9410498257"
       ]
      },
      {
       "output_type": "stream",
       "stream": "stdout",
       "text": [
        "\n",
        "Lexical diversity of <Text: Chat Corpus>: 7.42004615892\n",
        "Lexical diversity of <Text: Monty Python and the Holy Grail>: 7.83333333333\n",
        "Lexical diversity of <Text: Wall Street Journal>: 8.11379754997"
       ]
      },
      {
       "output_type": "stream",
       "stream": "stdout",
       "text": [
        "\n",
        "Lexical diversity of <Text: Personals Corpus>: 4.39259927798\n",
        "Lexical diversity of <Text: The Man Who Was Thursday by G . K . Chesterton 1908>: 10.1679153812\n"
       ]
      }
     ],
     "prompt_number": 28
    },
    {
     "cell_type": "code",
     "collapsed": false,
     "input": [
      "text2.dispersion_plot(['Elinor', 'Marianne', 'Edward', 'Willoughby'])\n",
      "\n",
      "text.similar('Edward')"
     ],
     "language": "python",
     "metadata": {},
     "outputs": [
      {
       "metadata": {},
       "output_type": "display_data",
       "png": "[encoded data removed]",
       "text": [
        "<matplotlib.figure.Figure at 0x736f4d0>"
       ]
      },
      {
       "output_type": "stream",
       "stream": "stdout",
       "text": [
        "No matches\n"
       ]
      }
     ],
     "prompt_number": 39
    }
   ],
   "metadata": {}
  }
 ]
}